{
  "nbformat": 4,
  "nbformat_minor": 0,
  "metadata": {
    "colab": {
      "provenance": []
    },
    "kernelspec": {
      "name": "python3",
      "display_name": "Python 3"
    },
    "language_info": {
      "name": "python"
    }
  },
  "cells": [
    {
      "cell_type": "markdown",
      "source": [
        "# Project Name : Solid , Cryogenic and Hybrid Rocket engine propulsion with machine learning\n",
        "\n",
        "Contributor : Rajeev singh sisodiya\n",
        "\n",
        "About Project : Simulating and optimizing solid, cryogenic, and hybrid rocket engine propulsion systems by using machine learning is a complex and ambitious task. Such simulations typically involve a combination of fluid dynamics, thermodynamics, combustion kinetics, and control systems. Machine learning can be applied to various aspects of rocket engine development, including design optimization, fault detection, and predictive maintenance."
      ],
      "metadata": {
        "id": "UnzlkEhS7JYA"
      }
    },
    {
      "cell_type": "markdown",
      "source": [
        "# Cryogenic engine\n",
        "\n",
        "Cryogenic engines use extremely cold propellants, often liquid hydrogen (LH2) and liquid oxygen (LOX), and involve intricate thermodynamics, combustion processes, and fluid dynamics. A detailed and accurate simulation typically requires the use of specialized software tools and access to proprietary data."
      ],
      "metadata": {
        "id": "UCT-yZPWufvQ"
      }
    },
    {
      "cell_type": "code",
      "source": [
        "import numpy as np"
      ],
      "metadata": {
        "id": "aqda0RmevcK9"
      },
      "execution_count": 4,
      "outputs": []
    },
    {
      "cell_type": "code",
      "execution_count": 5,
      "metadata": {
        "colab": {
          "base_uri": "https://localhost:8080/"
        },
        "id": "W-8PDvjOqWEn",
        "outputId": "7809bac5-5e66-49e7-8755-3345526a9d2e"
      },
      "outputs": [
        {
          "output_type": "stream",
          "name": "stdout",
          "text": [
            "Thrust: 937500.0 Newtons\n",
            "Specific Impulse (Isp): 458.7155963302752 seconds\n"
          ]
        }
      ],
      "source": [
        "\n",
        "exhaust_velocity = 4500.0  # Exhaust velocity in m/s\n",
        "propellant_mass = 50000.0  # Total mass of propellants in kilograms\n",
        "burn_time = 240.0  # Burn time in seconds\n",
        "\n",
        "# Calculate thrust using the ideal rocket equation\n",
        "thrust = exhaust_velocity * propellant_mass / burn_time\n",
        "\n",
        "# Calculate specific impulse (Isp)\n",
        "specific_impulse = exhaust_velocity / 9.81  # Convert to seconds\n",
        "\n",
        "# Print results\n",
        "print(f'Thrust: {thrust} Newtons')\n",
        "print(f'Specific Impulse (Isp): {specific_impulse} seconds')\n"
      ]
    },
    {
      "cell_type": "markdown",
      "source": [
        "# Solid engin propultion\n",
        "\n",
        "Solid rocket engines involve various complexities related to their specific design, grain geometry, and thrust profile,"
      ],
      "metadata": {
        "id": "3o7x2bMktt2K"
      }
    },
    {
      "cell_type": "code",
      "source": [
        "\n",
        "exhaust_velocity = 2200.0  # Exhaust velocity in m/s\n",
        "propellant_mass = 15000.0  # Total mass of propellants in kilograms\n",
        "burn_time = 120.0  # Burn time in seconds\n",
        "\n",
        "# Calculate thrust using the ideal rocket equation\n",
        "thrust = exhaust_velocity * propellant_mass / burn_time\n",
        "\n",
        "# Calculate specific impulse (Isp)\n",
        "specific_impulse = exhaust_velocity / 9.81  # Convert to seconds\n",
        "\n",
        "# Print results\n",
        "print(f'Thrust: {thrust} Newtons')\n",
        "print(f'Specific Impulse (Isp): {specific_impulse} seconds')\n"
      ],
      "metadata": {
        "colab": {
          "base_uri": "https://localhost:8080/"
        },
        "id": "8DDtAuOVrRTA",
        "outputId": "527e5a6d-0d36-4d54-f7ca-76c30f6004f3"
      },
      "execution_count": 6,
      "outputs": [
        {
          "output_type": "stream",
          "name": "stdout",
          "text": [
            "Thrust: 275000.0 Newtons\n",
            "Specific Impulse (Isp): 224.26095820591232 seconds\n"
          ]
        }
      ]
    },
    {
      "cell_type": "markdown",
      "source": [
        "# Hybrid rocket engines\n",
        "\n",
        "Hybrid rocket engines combine characteristics of both solid and liquid propulsion systems, typically with a solid fuel grain and a liquid oxidizer.In this python project notebook I assume a constant exhaust velocity for simplicity, whereas real hybrid rocket engines may have variable exhaust velocities during their burn.This notebook calculates thrust and specific impulse using the ideal rocket equation based on the given constants.Hybrid rocket engines involve various complexities related to their specific design, fuel grain geometry, and oxidizer injection."
      ],
      "metadata": {
        "id": "_ZhnbfDUr37N"
      }
    },
    {
      "cell_type": "code",
      "source": [
        "\n",
        "exhaust_velocity = 2500.0  # Exhaust velocity in m/s\n",
        "propellant_mass = 10000.0  # Total mass of propellants in kilograms\n",
        "burn_time = 180.0  # Burn time in seconds\n",
        "\n",
        "# Calculate thrust using the ideal rocket equation\n",
        "thrust = exhaust_velocity * propellant_mass / burn_time\n",
        "\n",
        "# Calculate specific impulse (Isp)\n",
        "specific_impulse = exhaust_velocity / 9.81  # Convert to seconds\n",
        "\n",
        "# Print results\n",
        "print(f'Thrust: {thrust} Newtons')\n",
        "print(f'Specific Impulse (Isp): {specific_impulse} seconds')\n"
      ],
      "metadata": {
        "colab": {
          "base_uri": "https://localhost:8080/"
        },
        "id": "zBOJ-Q_frmHX",
        "outputId": "7abad357-c92b-47f2-ef9a-c2eb82368e21"
      },
      "execution_count": 7,
      "outputs": [
        {
          "output_type": "stream",
          "name": "stdout",
          "text": [
            "Thrust: 138888.88888888888 Newtons\n",
            "Specific Impulse (Isp): 254.841997961264 seconds\n"
          ]
        }
      ]
    }
  ]
}